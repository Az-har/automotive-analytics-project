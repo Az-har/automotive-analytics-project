{
 "cells": [
  {
   "cell_type": "markdown",
   "id": "bc5299f9",
   "metadata": {},
   "source": [
    "# Step 1: Load and Combine Raw Data"
   ]
  },
  {
   "cell_type": "code",
   "execution_count": 12,
   "id": "b5315a0a",
   "metadata": {},
   "outputs": [],
   "source": [
    "import pandas as pd\n",
    "import numpy as np\n",
    "import glob\n",
    "import os\n",
    "from sklearn.linear_model import LinearRegression"
   ]
  },
  {
   "cell_type": "code",
   "execution_count": 13,
   "id": "bf394967",
   "metadata": {},
   "outputs": [
    {
     "name": "stdout",
     "output_type": "stream",
     "text": [
      "Successfully loaded and combined all raw data files.\n",
      "<class 'pandas.core.frame.DataFrame'>\n",
      "RangeIndex: 118150 entries, 0 to 118149\n",
      "Data columns (total 17 columns):\n",
      " #   Column        Non-Null Count   Dtype  \n",
      "---  ------        --------------   -----  \n",
      " 0   model         117995 non-null  object \n",
      " 1   year          117903 non-null  float64\n",
      " 2   price         117995 non-null  object \n",
      " 3   transmission  117995 non-null  object \n",
      " 4   mileage       117077 non-null  object \n",
      " 5   fuelType      108540 non-null  object \n",
      " 6   tax           94327 non-null   float64\n",
      " 7   mpg           99187 non-null   float64\n",
      " 8   engineSize    108540 non-null  float64\n",
      " 9   brand         118150 non-null  object \n",
      " 10  tax(£)        4860 non-null    float64\n",
      " 11  fuel type     3517 non-null    object \n",
      " 12  engine size   9345 non-null    object \n",
      " 13  mileage2      9399 non-null    object \n",
      " 14  fuel type2    8537 non-null    object \n",
      " 15  engine size2  8537 non-null    object \n",
      " 16  reference     9455 non-null    object \n",
      "dtypes: float64(5), object(12)\n",
      "memory usage: 15.3+ MB\n"
     ]
    }
   ],
   "source": [
    "path = os.path.join('..', 'data', 'raw')\n",
    "all_files = glob.glob(os.path.join(path, \"*.csv\"))\n",
    "\n",
    "# Loop through all files, add a 'brand' column, and append to a list\n",
    "li = []\n",
    "for filename in all_files:\n",
    "    df_temp = pd.read_csv(filename)\n",
    "    brand = os.path.basename(filename).split('.')[0]\n",
    "    df_temp['brand'] = brand\n",
    "    li.append(df_temp)\n",
    "\n",
    "# Concatenate all dataframes into one\n",
    "df = pd.concat(li, axis=0, ignore_index=True)\n",
    "\n",
    "print(\"Successfully loaded and combined all raw data files.\")\n",
    "df.info()\n"
   ]
  },
  {
   "cell_type": "markdown",
   "id": "a327190a",
   "metadata": {},
   "source": [
    "# Step 2: Clean and Standardize Data\n"
   ]
  },
  {
   "cell_type": "code",
   "execution_count": null,
   "id": "cde6d034",
   "metadata": {},
   "outputs": [
    {
     "name": "stdout",
     "output_type": "stream",
     "text": [
      "Successfully standardized and consolidated columns.\n"
     ]
    }
   ],
   "source": [
    "#Standardize column names to snake_case\n",
    "df.columns = df.columns.str.lower().str.replace(' ', '_').str.replace(r'[()£]', '', regex=True)\n",
    "\n",
    "# Consolidate data from columns with similar names\n",
    "df['engine_size'] = df['engine_size'].fillna(df['enginesize'])\n",
    "df['fuel_type'] = df['fuel_type'].fillna(df['fueltype'])\n",
    "\n",
    "# Consolidate the duplicated 'tax' columns\n",
    "tax_columns = df.columns[df.columns == 'tax']\n",
    "df['tax_final'] = df[tax_columns].apply(\n",
    "    lambda x: x.bfill(axis=0).iloc[0] if x.notna().any() else None,\n",
    "    axis=1\n",
    ")\n",
    "\n",
    "# Define and drop all redundant or unnecessary columns\n",
    "columns_to_drop = ['enginesize', 'fueltype', 'tax', 'mileage2', 'fuel_type2', 'engine_size2', 'reference']\n",
    "df = df.drop(columns=columns_to_drop, errors='ignore')\n",
    "\n",
    "# Rename the consolidated 'tax_final' column back to 'tax'\n",
    "df.rename(columns={'tax_final': 'tax'}, inplace=True)\n"
   ]
  },
  {
   "cell_type": "markdown",
   "id": "3222a370",
   "metadata": {},
   "source": [
    "# Step 3: Correct Data Types and Formats"
   ]
  },
  {
   "cell_type": "code",
   "execution_count": 15,
   "id": "0949b03b",
   "metadata": {},
   "outputs": [
    {
     "name": "stdout",
     "output_type": "stream",
     "text": [
      "Successfully corrected all data types.\n",
      "<class 'pandas.core.frame.DataFrame'>\n",
      "RangeIndex: 118150 entries, 0 to 118149\n",
      "Data columns (total 4 columns):\n",
      " #   Column       Non-Null Count   Dtype  \n",
      "---  ------       --------------   -----  \n",
      " 0   price        117995 non-null  float64\n",
      " 1   tax          99187 non-null   float64\n",
      " 2   mileage      117073 non-null  float64\n",
      " 3   engine_size  117885 non-null  float64\n",
      "dtypes: float64(4)\n",
      "memory usage: 3.6 MB\n"
     ]
    }
   ],
   "source": [
    "# Clean the 'engine_size' column by extracting only numbers\n",
    "df['engine_size'] = df['engine_size'].astype(str).str.extract(r'(\\d+\\.?\\d*)').astype(float)\n",
    "\n",
    "# Clean and convert core numeric columns, removing any non-numeric characters\n",
    "cols_to_convert = ['price', 'tax', 'mileage']\n",
    "for col in cols_to_convert:\n",
    "    df[col] = df[col].astype(str).str.replace(r'[£,]', '', regex=True)\n",
    "    df[col] = pd.to_numeric(df[col], errors='coerce')\n",
    "\n",
    "print(\"Successfully corrected all data types.\")\n",
    "df[['price', 'tax', 'mileage', 'engine_size']].info()\n",
    "\n"
   ]
  },
  {
   "cell_type": "markdown",
   "id": "260a2d5d",
   "metadata": {},
   "source": [
    "# Step 4: Impute Missing Values"
   ]
  },
  {
   "cell_type": "code",
   "execution_count": 16,
   "id": "116b842c",
   "metadata": {},
   "outputs": [
    {
     "name": "stdout",
     "output_type": "stream",
     "text": [
      "Successfully imputed 'mpg' using a predictive model.\n",
      "\n",
      "Final check for missing values (should be 0): 0\n"
     ]
    },
    {
     "name": "stderr",
     "output_type": "stream",
     "text": [
      "C:\\Users\\azhar\\AppData\\Local\\Temp\\ipykernel_14612\\687004612.py:13: FutureWarning: A value is trying to be set on a copy of a DataFrame or Series through chained assignment using an inplace method.\n",
      "The behavior will change in pandas 3.0. This inplace method will never work because the intermediate object on which we are setting values always behaves as a copy.\n",
      "\n",
      "For example, when doing 'df[col].method(value, inplace=True)', try using 'df.method({col: value}, inplace=True)' or df[col] = df[col].method(value) instead, to perform the operation inplace on the original object.\n",
      "\n",
      "\n",
      "  train_df[col].fillna(median_val, inplace=True)\n",
      "C:\\Users\\azhar\\AppData\\Local\\Temp\\ipykernel_14612\\687004612.py:15: FutureWarning: A value is trying to be set on a copy of a DataFrame or Series through chained assignment using an inplace method.\n",
      "The behavior will change in pandas 3.0. This inplace method will never work because the intermediate object on which we are setting values always behaves as a copy.\n",
      "\n",
      "For example, when doing 'df[col].method(value, inplace=True)', try using 'df.method({col: value}, inplace=True)' or df[col] = df[col].method(value) instead, to perform the operation inplace on the original object.\n",
      "\n",
      "\n",
      "  predict_df[col].fillna(median_val, inplace=True)\n",
      "C:\\Users\\azhar\\AppData\\Local\\Temp\\ipykernel_14612\\687004612.py:13: FutureWarning: A value is trying to be set on a copy of a DataFrame or Series through chained assignment using an inplace method.\n",
      "The behavior will change in pandas 3.0. This inplace method will never work because the intermediate object on which we are setting values always behaves as a copy.\n",
      "\n",
      "For example, when doing 'df[col].method(value, inplace=True)', try using 'df.method({col: value}, inplace=True)' or df[col] = df[col].method(value) instead, to perform the operation inplace on the original object.\n",
      "\n",
      "\n",
      "  train_df[col].fillna(median_val, inplace=True)\n",
      "C:\\Users\\azhar\\AppData\\Local\\Temp\\ipykernel_14612\\687004612.py:15: FutureWarning: A value is trying to be set on a copy of a DataFrame or Series through chained assignment using an inplace method.\n",
      "The behavior will change in pandas 3.0. This inplace method will never work because the intermediate object on which we are setting values always behaves as a copy.\n",
      "\n",
      "For example, when doing 'df[col].method(value, inplace=True)', try using 'df.method({col: value}, inplace=True)' or df[col] = df[col].method(value) instead, to perform the operation inplace on the original object.\n",
      "\n",
      "\n",
      "  predict_df[col].fillna(median_val, inplace=True)\n",
      "C:\\Users\\azhar\\AppData\\Local\\Temp\\ipykernel_14612\\687004612.py:13: FutureWarning: A value is trying to be set on a copy of a DataFrame or Series through chained assignment using an inplace method.\n",
      "The behavior will change in pandas 3.0. This inplace method will never work because the intermediate object on which we are setting values always behaves as a copy.\n",
      "\n",
      "For example, when doing 'df[col].method(value, inplace=True)', try using 'df.method({col: value}, inplace=True)' or df[col] = df[col].method(value) instead, to perform the operation inplace on the original object.\n",
      "\n",
      "\n",
      "  train_df[col].fillna(median_val, inplace=True)\n",
      "C:\\Users\\azhar\\AppData\\Local\\Temp\\ipykernel_14612\\687004612.py:15: FutureWarning: A value is trying to be set on a copy of a DataFrame or Series through chained assignment using an inplace method.\n",
      "The behavior will change in pandas 3.0. This inplace method will never work because the intermediate object on which we are setting values always behaves as a copy.\n",
      "\n",
      "For example, when doing 'df[col].method(value, inplace=True)', try using 'df.method({col: value}, inplace=True)' or df[col] = df[col].method(value) instead, to perform the operation inplace on the original object.\n",
      "\n",
      "\n",
      "  predict_df[col].fillna(median_val, inplace=True)\n",
      "C:\\Users\\azhar\\AppData\\Local\\Temp\\ipykernel_14612\\687004612.py:13: FutureWarning: A value is trying to be set on a copy of a DataFrame or Series through chained assignment using an inplace method.\n",
      "The behavior will change in pandas 3.0. This inplace method will never work because the intermediate object on which we are setting values always behaves as a copy.\n",
      "\n",
      "For example, when doing 'df[col].method(value, inplace=True)', try using 'df.method({col: value}, inplace=True)' or df[col] = df[col].method(value) instead, to perform the operation inplace on the original object.\n",
      "\n",
      "\n",
      "  train_df[col].fillna(median_val, inplace=True)\n",
      "C:\\Users\\azhar\\AppData\\Local\\Temp\\ipykernel_14612\\687004612.py:15: FutureWarning: A value is trying to be set on a copy of a DataFrame or Series through chained assignment using an inplace method.\n",
      "The behavior will change in pandas 3.0. This inplace method will never work because the intermediate object on which we are setting values always behaves as a copy.\n",
      "\n",
      "For example, when doing 'df[col].method(value, inplace=True)', try using 'df.method({col: value}, inplace=True)' or df[col] = df[col].method(value) instead, to perform the operation inplace on the original object.\n",
      "\n",
      "\n",
      "  predict_df[col].fillna(median_val, inplace=True)\n",
      "C:\\Users\\azhar\\AppData\\Local\\Temp\\ipykernel_14612\\687004612.py:13: FutureWarning: A value is trying to be set on a copy of a DataFrame or Series through chained assignment using an inplace method.\n",
      "The behavior will change in pandas 3.0. This inplace method will never work because the intermediate object on which we are setting values always behaves as a copy.\n",
      "\n",
      "For example, when doing 'df[col].method(value, inplace=True)', try using 'df.method({col: value}, inplace=True)' or df[col] = df[col].method(value) instead, to perform the operation inplace on the original object.\n",
      "\n",
      "\n",
      "  train_df[col].fillna(median_val, inplace=True)\n",
      "C:\\Users\\azhar\\AppData\\Local\\Temp\\ipykernel_14612\\687004612.py:15: FutureWarning: A value is trying to be set on a copy of a DataFrame or Series through chained assignment using an inplace method.\n",
      "The behavior will change in pandas 3.0. This inplace method will never work because the intermediate object on which we are setting values always behaves as a copy.\n",
      "\n",
      "For example, when doing 'df[col].method(value, inplace=True)', try using 'df.method({col: value}, inplace=True)' or df[col] = df[col].method(value) instead, to perform the operation inplace on the original object.\n",
      "\n",
      "\n",
      "  predict_df[col].fillna(median_val, inplace=True)\n",
      "C:\\Users\\azhar\\AppData\\Local\\Temp\\ipykernel_14612\\687004612.py:37: FutureWarning: A value is trying to be set on a copy of a DataFrame or Series through chained assignment using an inplace method.\n",
      "The behavior will change in pandas 3.0. This inplace method will never work because the intermediate object on which we are setting values always behaves as a copy.\n",
      "\n",
      "For example, when doing 'df[col].method(value, inplace=True)', try using 'df.method({col: value}, inplace=True)' or df[col] = df[col].method(value) instead, to perform the operation inplace on the original object.\n",
      "\n",
      "\n",
      "  df[col].fillna(df[col].mode()[0], inplace=True)\n",
      "C:\\Users\\azhar\\AppData\\Local\\Temp\\ipykernel_14612\\687004612.py:39: FutureWarning: A value is trying to be set on a copy of a DataFrame or Series through chained assignment using an inplace method.\n",
      "The behavior will change in pandas 3.0. This inplace method will never work because the intermediate object on which we are setting values always behaves as a copy.\n",
      "\n",
      "For example, when doing 'df[col].method(value, inplace=True)', try using 'df.method({col: value}, inplace=True)' or df[col] = df[col].method(value) instead, to perform the operation inplace on the original object.\n",
      "\n",
      "\n",
      "  df[col].fillna(df[col].median(), inplace=True)\n",
      "C:\\Users\\azhar\\AppData\\Local\\Temp\\ipykernel_14612\\687004612.py:39: FutureWarning: A value is trying to be set on a copy of a DataFrame or Series through chained assignment using an inplace method.\n",
      "The behavior will change in pandas 3.0. This inplace method will never work because the intermediate object on which we are setting values always behaves as a copy.\n",
      "\n",
      "For example, when doing 'df[col].method(value, inplace=True)', try using 'df.method({col: value}, inplace=True)' or df[col] = df[col].method(value) instead, to perform the operation inplace on the original object.\n",
      "\n",
      "\n",
      "  df[col].fillna(df[col].median(), inplace=True)\n",
      "C:\\Users\\azhar\\AppData\\Local\\Temp\\ipykernel_14612\\687004612.py:37: FutureWarning: A value is trying to be set on a copy of a DataFrame or Series through chained assignment using an inplace method.\n",
      "The behavior will change in pandas 3.0. This inplace method will never work because the intermediate object on which we are setting values always behaves as a copy.\n",
      "\n",
      "For example, when doing 'df[col].method(value, inplace=True)', try using 'df.method({col: value}, inplace=True)' or df[col] = df[col].method(value) instead, to perform the operation inplace on the original object.\n",
      "\n",
      "\n",
      "  df[col].fillna(df[col].mode()[0], inplace=True)\n",
      "C:\\Users\\azhar\\AppData\\Local\\Temp\\ipykernel_14612\\687004612.py:39: FutureWarning: A value is trying to be set on a copy of a DataFrame or Series through chained assignment using an inplace method.\n",
      "The behavior will change in pandas 3.0. This inplace method will never work because the intermediate object on which we are setting values always behaves as a copy.\n",
      "\n",
      "For example, when doing 'df[col].method(value, inplace=True)', try using 'df.method({col: value}, inplace=True)' or df[col] = df[col].method(value) instead, to perform the operation inplace on the original object.\n",
      "\n",
      "\n",
      "  df[col].fillna(df[col].median(), inplace=True)\n",
      "C:\\Users\\azhar\\AppData\\Local\\Temp\\ipykernel_14612\\687004612.py:37: FutureWarning: A value is trying to be set on a copy of a DataFrame or Series through chained assignment using an inplace method.\n",
      "The behavior will change in pandas 3.0. This inplace method will never work because the intermediate object on which we are setting values always behaves as a copy.\n",
      "\n",
      "For example, when doing 'df[col].method(value, inplace=True)', try using 'df.method({col: value}, inplace=True)' or df[col] = df[col].method(value) instead, to perform the operation inplace on the original object.\n",
      "\n",
      "\n",
      "  df[col].fillna(df[col].mode()[0], inplace=True)\n",
      "C:\\Users\\azhar\\AppData\\Local\\Temp\\ipykernel_14612\\687004612.py:39: FutureWarning: A value is trying to be set on a copy of a DataFrame or Series through chained assignment using an inplace method.\n",
      "The behavior will change in pandas 3.0. This inplace method will never work because the intermediate object on which we are setting values always behaves as a copy.\n",
      "\n",
      "For example, when doing 'df[col].method(value, inplace=True)', try using 'df.method({col: value}, inplace=True)' or df[col] = df[col].method(value) instead, to perform the operation inplace on the original object.\n",
      "\n",
      "\n",
      "  df[col].fillna(df[col].median(), inplace=True)\n",
      "C:\\Users\\azhar\\AppData\\Local\\Temp\\ipykernel_14612\\687004612.py:39: FutureWarning: A value is trying to be set on a copy of a DataFrame or Series through chained assignment using an inplace method.\n",
      "The behavior will change in pandas 3.0. This inplace method will never work because the intermediate object on which we are setting values always behaves as a copy.\n",
      "\n",
      "For example, when doing 'df[col].method(value, inplace=True)', try using 'df.method({col: value}, inplace=True)' or df[col] = df[col].method(value) instead, to perform the operation inplace on the original object.\n",
      "\n",
      "\n",
      "  df[col].fillna(df[col].median(), inplace=True)\n"
     ]
    }
   ],
   "source": [
    "# Use a predictive model (Linear Regression) to impute missing 'mpg' values\n",
    "\n",
    "# Separate the dataframe into a training set (where mpg is known) and a prediction set\n",
    "train_df = df[df['mpg'].notna()].copy()\n",
    "predict_df = df[df['mpg'].isna()].copy()\n",
    "\n",
    "# Define the features for the model\n",
    "features = ['year', 'price', 'mileage', 'engine_size', 'tax']\n",
    "\n",
    "# Fill any remaining NaNs in the feature columns of both sets using the median from the training data\n",
    "for col in features:\n",
    "    median_val = train_df[col].median()\n",
    "    train_df[col].fillna(median_val, inplace=True)\n",
    "    if not predict_df.empty:\n",
    "        predict_df[col].fillna(median_val, inplace=True)\n",
    "\n",
    "# Train the model\n",
    "model = LinearRegression()\n",
    "X_train = train_df[features]\n",
    "y_train = train_df['mpg']\n",
    "model.fit(X_train, y_train)\n",
    "\n",
    "# Predict missing values and fill them back into the original dataframe\n",
    "if not predict_df.empty:\n",
    "    X_predict = predict_df[features]\n",
    "    predicted_mpg = model.predict(X_predict)\n",
    "    df.loc[df['mpg'].isna(), 'mpg'] = predicted_mpg\n",
    "    print(\"Successfully imputed 'mpg' using a predictive model.\")\n",
    "else:\n",
    "    print(\"No 'mpg' values required predictive imputation.\")\n",
    "\n",
    "\n",
    "# Impute any other remaining missing values in the entire dataframe\n",
    "for col in df.columns:\n",
    "    if df[col].isnull().any():\n",
    "        if df[col].dtype == 'object':\n",
    "            df[col].fillna(df[col].mode()[0], inplace=True)\n",
    "        else:\n",
    "            df[col].fillna(df[col].median(), inplace=True)\n",
    "\n",
    "print(\"\\nFinal check for missing values (should be 0):\", df.isnull().sum().sum())\n"
   ]
  },
  {
   "cell_type": "markdown",
   "id": "145fbc53",
   "metadata": {},
   "source": [
    "# Step 5: Save Cleaned Data"
   ]
  },
  {
   "cell_type": "code",
   "execution_count": 17,
   "id": "5c88f728",
   "metadata": {},
   "outputs": [
    {
     "name": "stdout",
     "output_type": "stream",
     "text": [
      "\n",
      "Successfully saved the cleaned data to: ..\\data\\processed\\cleaned_car_data.csv\n"
     ]
    }
   ],
   "source": [
    "# Save the fully cleaned dataframe to the processed folder\n",
    "output_path = os.path.join('..', 'data', 'processed', 'cleaned_car_data.csv')\n",
    "df.to_csv(output_path, index=False)\n",
    "\n",
    "print(f\"\\nSuccessfully saved the cleaned data to: {output_path}\")\n"
   ]
  }
 ],
 "metadata": {
  "kernelspec": {
   "display_name": ".venv",
   "language": "python",
   "name": "python3"
  },
  "language_info": {
   "codemirror_mode": {
    "name": "ipython",
    "version": 3
   },
   "file_extension": ".py",
   "mimetype": "text/x-python",
   "name": "python",
   "nbconvert_exporter": "python",
   "pygments_lexer": "ipython3",
   "version": "3.13.7"
  }
 },
 "nbformat": 4,
 "nbformat_minor": 5
}
